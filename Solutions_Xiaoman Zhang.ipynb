{
 "cells": [
  {
   "cell_type": "markdown",
   "metadata": {},
   "source": [
    "# Question 1"
   ]
  },
  {
   "cell_type": "markdown",
   "metadata": {},
   "source": [
    "*Question Description* <br>\n",
    "* a. What are the FF factor betas for each of the industry portfolios? In regression, does it help to use 5 or 6 (includes MOM) factors or was original 3 or 4 (includes MOM) factors model adequate? Are these betas time varying?\n",
    "* b. What regression technique can one employ to find more stable beta? How do your results change?"
   ]
  },
  {
   "cell_type": "markdown",
   "metadata": {},
   "source": [
    "## Answer 1.a (1)"
   ]
  },
  {
   "cell_type": "code",
   "execution_count": 1,
   "metadata": {},
   "outputs": [
    {
     "name": "stderr",
     "output_type": "stream",
     "text": [
      "/Users/xiaomanzhang/anaconda3/lib/python3.7/site-packages/statsmodels/tools/_testing.py:19: FutureWarning: pandas.util.testing is deprecated. Use the functions in the public API at pandas.testing instead.\n",
      "  import pandas.util.testing as tm\n"
     ]
    }
   ],
   "source": [
    "##import packages\n",
    "import pandas as pd\n",
    "import numpy as np\n",
    "import statsmodels.api as sm\n",
    "import matplotlib.pyplot as plt\n",
    "import scipy.stats as stats"
   ]
  },
  {
   "cell_type": "code",
   "execution_count": 2,
   "metadata": {},
   "outputs": [],
   "source": [
    "##import prepared datasets\n",
    "FF_data = pd.read_csv('F_F_Factors.csv').set_index('Date')\n",
    "FF_data = FF_data/100\n",
    "portfolio_return = pd.read_csv('Portfolios_returns.csv').set_index('Date')\n",
    "portfolio_return = portfolio_return/100"
   ]
  },
  {
   "cell_type": "markdown",
   "metadata": {},
   "source": [
    "#### Simple Data Check "
   ]
  },
  {
   "cell_type": "code",
   "execution_count": 3,
   "metadata": {},
   "outputs": [
    {
     "data": {
      "text/plain": [
       "Mkt-RF    0\n",
       "SMB       0\n",
       "HML       0\n",
       "RMW       0\n",
       "CMA       0\n",
       "MOM       0\n",
       "RF        0\n",
       "dtype: int64"
      ]
     },
     "execution_count": 3,
     "metadata": {},
     "output_type": "execute_result"
    }
   ],
   "source": [
    "##Check if there is any missing values in the FF factor dataset\n",
    "np.sum(FF_data.isnull(), 0)"
   ]
  },
  {
   "cell_type": "code",
   "execution_count": 4,
   "metadata": {},
   "outputs": [
    {
     "data": {
      "text/plain": [
       "NoDur    0\n",
       "Durbl    0\n",
       "Manuf    0\n",
       "Enrgy    0\n",
       "Chems    0\n",
       "BusEq    0\n",
       "Telcm    0\n",
       "Utils    0\n",
       "Shops    0\n",
       "Hlth     0\n",
       "Money    0\n",
       "Other    0\n",
       "dtype: int64"
      ]
     },
     "execution_count": 4,
     "metadata": {},
     "output_type": "execute_result"
    }
   ],
   "source": [
    "##Check if there is any missing values in the portfolio return dataset\n",
    "np.sum(portfolio_return.isnull(), 0)"
   ]
  },
  {
   "cell_type": "markdown",
   "metadata": {},
   "source": [
    "There is no missing values in the FF factor dataset and portfolio return dataset"
   ]
  },
  {
   "cell_type": "code",
   "execution_count": 5,
   "metadata": {},
   "outputs": [
    {
     "data": {
      "text/plain": [
       "array([5.65868113e-15, 3.19232853e-13, 1.38247104e-07, 1.26866795e-22,\n",
       "       2.73391863e-07, 8.61655028e-41, 8.97684856e-21])"
      ]
     },
     "execution_count": 5,
     "metadata": {},
     "output_type": "execute_result"
    }
   ],
   "source": [
    "##check the normality of FF factors\n",
    "stats.normaltest(FF_data).pvalue"
   ]
  },
  {
   "cell_type": "code",
   "execution_count": 6,
   "metadata": {},
   "outputs": [
    {
     "data": {
      "text/plain": [
       "array([1.99378517e-11, 1.17807465e-18, 5.43461721e-17, 2.86439934e-11,\n",
       "       4.56449245e-12, 3.77026369e-06, 7.16896691e-05, 2.80106965e-06,\n",
       "       2.99689101e-12, 1.19201485e-04, 4.35272857e-12, 3.39922225e-19])"
      ]
     },
     "execution_count": 6,
     "metadata": {},
     "output_type": "execute_result"
    }
   ],
   "source": [
    "##check the normality of portfolio returns\n",
    "stats.normaltest(portfolio_return).pvalue"
   ]
  },
  {
   "cell_type": "markdown",
   "metadata": {},
   "source": [
    "From the normal test result, we can assume all the time series follows normal distribution, and we will not perform additional outlier removing or other data cleaning/standardization processes for the datasets."
   ]
  },
  {
   "cell_type": "code",
   "execution_count": 7,
   "metadata": {},
   "outputs": [],
   "source": [
    "##define factor combinations to test\n",
    "factor_comb = {'FF3': ['Mkt-RF', 'SMB', 'HML'],\n",
    "                      'CFF': ['Mkt-RF', 'SMB', 'HML', 'MOM'],\n",
    "                      'FF5': ['Mkt-RF', 'SMB', 'HML', 'MOM', 'RMW'],\n",
    "                      'CFF_CMA': ['Mkt-RF', 'SMB', 'HML', 'MOM', 'CMA'],\n",
    "                      'FF6': ['Mkt-RF', 'SMB', 'HML', 'MOM', 'RMW', 'CMA']}\n",
    "\n",
    "##define columns to be shown in the result tables\n",
    "result_table_cols = ['Alpha', 'Mkt-RF', 'SMB','HML','MOM', 'RMW', 'CMA','R_adj']\n",
    "#result_table_cols = ['Alpha', 'Alpha_t', 'Mkt-RF', 'Mkt-RF_t',\n",
    "#                     'SMB', 'SMB_t','HML', 'HML_t', 'MOM', 'MOM_t',\n",
    "#                     'RMW', 'RMW_t','CMA', 'CMA_t','R_adj']"
   ]
  },
  {
   "cell_type": "markdown",
   "metadata": {},
   "source": [
    "**OLS**"
   ]
  },
  {
   "cell_type": "code",
   "execution_count": 8,
   "metadata": {},
   "outputs": [],
   "source": [
    "##This function is to perform OLS on the factor models, and return the regression results in tables\n",
    "\n",
    "def generate_reg_result(portfolio, portfolio_return, FF_data, factor_comb, result_table_cols):\n",
    "    \n",
    "    #create empty table to store the regression results\n",
    "    reg_result = np.empty((len(factor_comb), len(result_table_cols)))\n",
    "    reg_result[:] = np.nan\n",
    "    reg_result = pd.DataFrame(reg_result)\n",
    "    reg_result.columns = result_table_cols\n",
    "    reg_result.index = factor_comb.keys()\n",
    "\n",
    "    ##fill the table with regression result\n",
    "    #iterate the factor combinations to test\n",
    "    for comb in factor_comb:\n",
    "        #define the dependent and independent variables\n",
    "        y = np.array(portfolio_return[portfolio]-FF_data['RF'])\n",
    "        X = np.array(FF_data[factor_comb[comb]])\n",
    "        #add constant term\n",
    "        X = sm.add_constant(X)\n",
    "        #OLS\n",
    "        reg = sm.OLS(y, X).fit()\n",
    "        #fill the result table with output parameters\n",
    "        reg_result.loc[comb]['Alpha'] = reg.params[0]\n",
    "        #reg_result.loc[comb]['Alpha_t'] = reg.tvalues[0]\n",
    "        reg_result.loc[comb]['R_adj'] = reg.rsquared_adj\n",
    "        for i in range(len(factor_comb[comb])):\n",
    "            reg_result.loc[comb][factor_comb[comb][i]] = reg.params[i+1]\n",
    "            #reg_result.loc[comb][factor_comb[comb][i]+'_t'] = reg.tvalues[i+1]\n",
    "    #export the result table to csv files\n",
    "    #reg_result.to_csv(portfolio+'reg_beta_result.csv')\n",
    "    return reg_result"
   ]
  },
  {
   "cell_type": "code",
   "execution_count": 9,
   "metadata": {},
   "outputs": [],
   "source": [
    "##This function is to plot the bar chart for different portfolios with various factor combinations\n",
    "\n",
    "def bar_chart_plot(data, width, xlabel, ylabel):\n",
    "    n = len(data.columns)\n",
    "    m = len(data.index)\n",
    "    x = np.arange(n)\n",
    "    width_change = [width*i for i in range(-int(m//2), m//2+1)]\n",
    "    plt.figure(figsize=(16, 9))\n",
    "    for i in range(len(Adjusted_R2.index)):\n",
    "        plt.bar(x+width_change[i], data.loc[data.index[i]], width)\n",
    "    plt.xticks(x, list(data.columns))\n",
    "    plt.xlabel(xlabel)\n",
    "    plt.ylabel(ylabel)\n",
    "    plt.legend(data.index)\n",
    "    plt.show()"
   ]
  },
  {
   "cell_type": "code",
   "execution_count": 10,
   "metadata": {},
   "outputs": [],
   "source": [
    "## This function is to calculate the t_stats and Pvalues of the input data, and check if the difference between the group pairs is significant\n",
    "\n",
    "def t_stats(data):\n",
    "    t_stats = {}\n",
    "    p_value = {}\n",
    "    for i in range(len(data.index)-1):\n",
    "        for j in range(i+1, len(data.index)):\n",
    "            # Creating data groups\n",
    "            data_group1 = data.loc[data.index[i]]\n",
    "            data_group2 = data.loc[data.index[j]]\n",
    "            # Perform the two sample t-test \n",
    "            test_result = stats.ttest_ind(a=data_group1, b=data_group2)\n",
    "            t_stats[data.index[i]+'&'+data.index[j]] = test_result.statistic\n",
    "            p_value[data.index[i]+'&'+data.index[j]] = test_result.pvalue\n",
    "    return t_stats, p_value"
   ]
  },
  {
   "cell_type": "markdown",
   "metadata": {},
   "source": [
    "Generate the regression results using the above functions and return the adjusted R2 for further analysis."
   ]
  },
  {
   "cell_type": "code",
   "execution_count": 11,
   "metadata": {},
   "outputs": [
    {
     "name": "stdout",
     "output_type": "stream",
     "text": [
      "----------------------------------------------------\n",
      "NoDur\n",
      "            Alpha    Mkt-RF       SMB       HML       MOM       RMW       CMA  \\\n",
      "FF3      0.002277  0.729883 -0.204701  0.200785       NaN       NaN       NaN   \n",
      "CFF      0.001930  0.744096 -0.205295  0.218038  0.050358       NaN       NaN   \n",
      "FF5     -0.000222  0.781661 -0.027333  0.095265  0.033624  0.523306       NaN   \n",
      "CFF_CMA  0.001166  0.779028 -0.210302  0.075365  0.031345       NaN  0.326338   \n",
      "FF6     -0.001338  0.828660 -0.022043 -0.094682  0.008286  0.557631  0.416049   \n",
      "\n",
      "            R_adj  \n",
      "FF3      0.620383  \n",
      "CFF      0.622416  \n",
      "FF5      0.696360  \n",
      "CFF_CMA  0.636463  \n",
      "FF6      0.719642  \n",
      "----------------------------------------------------\n",
      "Durbl\n",
      "            Alpha    Mkt-RF       SMB       HML       MOM       RMW       CMA  \\\n",
      "FF3     -0.001697  1.354235  0.247485  0.309847       NaN       NaN       NaN   \n",
      "CFF      0.000578  1.261039  0.251377  0.196715 -0.330218       NaN       NaN   \n",
      "FF5     -0.000606  1.281703  0.349273  0.129177 -0.339423  0.287869       NaN   \n",
      "CFF_CMA  0.000730  1.254070  0.252376  0.225177 -0.326424       NaN -0.065103   \n",
      "FF6     -0.000555  1.279552  0.349031  0.137872 -0.338263  0.286298 -0.019044   \n",
      "\n",
      "            R_adj  \n",
      "FF3      0.593559  \n",
      "CFF      0.623521  \n",
      "FF5      0.628242  \n",
      "CFF_CMA  0.622797  \n",
      "FF6      0.627392  \n",
      "----------------------------------------------------\n",
      "Manuf\n",
      "            Alpha    Mkt-RF       SMB       HML       MOM       RMW       CMA  \\\n",
      "FF3      0.000078  1.127715  0.127529  0.267381       NaN       NaN       NaN   \n",
      "CFF      0.000438  1.112965  0.128145  0.249476 -0.052263       NaN       NaN   \n",
      "FF5     -0.000867  1.135733  0.236006  0.175065 -0.062406  0.317169       NaN   \n",
      "CFF_CMA  0.000228  1.122597  0.126765  0.210139 -0.057505       NaN  0.089975   \n",
      "FF6     -0.001250  1.151876  0.237822  0.109825 -0.071108  0.328958  0.142897   \n",
      "\n",
      "            R_adj  \n",
      "FF3      0.864719  \n",
      "CFF      0.866074  \n",
      "FF5      0.880390  \n",
      "CFF_CMA  0.866368  \n",
      "FF6      0.881618  \n",
      "----------------------------------------------------\n",
      "Enrgy\n",
      "            Alpha    Mkt-RF       SMB       HML       MOM       RMW       CMA  \\\n",
      "FF3      0.000457  0.915453  0.099996  0.687769       NaN       NaN       NaN   \n",
      "CFF      0.000136  0.928590  0.099447  0.703716  0.046545       NaN       NaN   \n",
      "FF5     -0.000144  0.933483  0.122631  0.687722  0.044365  0.068171       NaN   \n",
      "CFF_CMA -0.000596  0.962070  0.094649  0.566973  0.028322       NaN  0.312775   \n",
      "FF6     -0.001024  0.970547  0.126802  0.537929  0.024384  0.095241  0.328097   \n",
      "\n",
      "            R_adj  \n",
      "FF3      0.479404  \n",
      "CFF      0.479183  \n",
      "FF5      0.478478  \n",
      "CFF_CMA  0.483385  \n",
      "FF6      0.483154  \n",
      "----------------------------------------------------\n",
      "Chems\n",
      "            Alpha    Mkt-RF       SMB       HML       MOM       RMW       CMA  \\\n",
      "FF3      0.000835  0.858727 -0.144862  0.230333       NaN       NaN       NaN   \n",
      "CFF      0.000723  0.863317 -0.145054  0.235905  0.016262       NaN       NaN   \n",
      "FF5     -0.001156  0.896100  0.010253  0.128761  0.001658  0.456688       NaN   \n",
      "CFF_CMA  0.000005  0.896107 -0.149754  0.101979 -0.001585       NaN  0.306331   \n",
      "FF6     -0.002188  0.939581  0.015147 -0.046970 -0.021783  0.488445  0.384911   \n",
      "\n",
      "            R_adj  \n",
      "FF3      0.687841  \n",
      "CFF      0.687360  \n",
      "FF5      0.731696  \n",
      "CFF_CMA  0.697033  \n",
      "FF6      0.747308  \n",
      "----------------------------------------------------\n",
      "BusEq\n",
      "            Alpha    Mkt-RF       SMB       HML       MOM       RMW       CMA  \\\n",
      "FF3      0.001526  1.214313  0.148316 -0.628612       NaN       NaN       NaN   \n",
      "CFF      0.002346  1.180697  0.149720 -0.669420 -0.119112       NaN       NaN   \n",
      "FF5      0.003802  1.155300  0.029405 -0.586417 -0.107798 -0.353791       NaN   \n",
      "CFF_CMA  0.002989  1.151283  0.153936 -0.549284 -0.103102       NaN -0.274789   \n",
      "FF6      0.004703  1.117325  0.025131 -0.432939 -0.087325 -0.381526 -0.336169   \n",
      "\n",
      "            R_adj  \n",
      "FF3      0.833727  \n",
      "CFF      0.839047  \n",
      "FF5      0.850656  \n",
      "CFF_CMA  0.842381  \n",
      "FF6      0.855796  \n",
      "----------------------------------------------------\n",
      "Telcm\n",
      "            Alpha    Mkt-RF       SMB       HML       MOM       RMW       CMA  \\\n",
      "FF3     -0.001363  0.936522 -0.181711  0.087128       NaN       NaN       NaN   \n",
      "CFF     -0.000954  0.919779 -0.181012  0.066805 -0.059322       NaN       NaN   \n",
      "FF5     -0.000114  0.905116 -0.250477  0.114728 -0.052790 -0.204267       NaN   \n",
      "CFF_CMA -0.001704  0.954050 -0.185924 -0.073168 -0.077976       NaN  0.320163   \n",
      "FF6     -0.000895  0.938007 -0.246775 -0.018203 -0.070522 -0.180245  0.291166   \n",
      "\n",
      "            R_adj  \n",
      "FF3      0.640599  \n",
      "CFF      0.642270  \n",
      "FF5      0.648503  \n",
      "CFF_CMA  0.650338  \n",
      "FF6      0.654965  \n",
      "----------------------------------------------------\n",
      "Utils\n",
      "            Alpha    Mkt-RF       SMB       HML       MOM       RMW       CMA  \\\n",
      "FF3      0.002184  0.492215 -0.232360  0.315946       NaN       NaN       NaN   \n",
      "CFF      0.001443  0.522548 -0.233627  0.352768  0.107477       NaN       NaN   \n",
      "FF5      0.000887  0.532263 -0.187601  0.321015  0.103149  0.135341       NaN   \n",
      "CFF_CMA  0.000531  0.564281 -0.239609  0.182315  0.084762       NaN  0.389880   \n",
      "FF6     -0.000232  0.579391 -0.182297  0.130547  0.077742  0.169761  0.417191   \n",
      "\n",
      "            R_adj  \n",
      "FF3      0.317599  \n",
      "CFF      0.329608  \n",
      "FF5      0.333186  \n",
      "CFF_CMA  0.349887  \n",
      "FF6      0.356361  \n",
      "----------------------------------------------------\n",
      "Shops\n",
      "            Alpha    Mkt-RF       SMB       HML       MOM       RMW       CMA  \\\n",
      "FF3      0.001426  0.940728  0.003609 -0.028989       NaN       NaN       NaN   \n",
      "CFF      0.001530  0.936462  0.003787 -0.034167 -0.015115       NaN       NaN   \n",
      "FF5     -0.000469  0.971337  0.169006 -0.148149 -0.030651  0.485834       NaN   \n",
      "CFF_CMA  0.001813  0.923508  0.005643  0.018740 -0.008064       NaN -0.121017   \n",
      "FF6     -0.000353  0.966431  0.168454 -0.128320 -0.028006  0.482251 -0.043433   \n",
      "\n",
      "            R_adj  \n",
      "FF3      0.751607  \n",
      "CFF      0.751210  \n",
      "FF5      0.793998  \n",
      "CFF_CMA  0.752014  \n",
      "FF6      0.793695  \n",
      "----------------------------------------------------\n",
      "Hlth\n",
      "            Alpha    Mkt-RF       SMB       HML       MOM       RMW       CMA  \\\n",
      "FF3      0.003175  0.754965 -0.178474 -0.123988       NaN       NaN       NaN   \n",
      "CFF      0.002523  0.781687 -0.179590 -0.091549  0.094683       NaN       NaN   \n",
      "FF5      0.001862  0.793213 -0.124986 -0.129219  0.089548  0.160563       NaN   \n",
      "CFF_CMA  0.001608  0.823495 -0.185582 -0.262305  0.071927       NaN  0.390574   \n",
      "FF6      0.000731  0.840885 -0.119621 -0.321886  0.063848  0.195381  0.422007   \n",
      "\n",
      "            R_adj  \n",
      "FF3      0.563764  \n",
      "CFF      0.570912  \n",
      "FF5      0.575504  \n",
      "CFF_CMA  0.586867  \n",
      "FF6      0.594088  \n",
      "----------------------------------------------------\n",
      "Money\n",
      "            Alpha    Mkt-RF       SMB       HML       MOM       RMW       CMA  \\\n",
      "FF3     -0.001535  1.140478 -0.082942  0.638694       NaN       NaN       NaN   \n",
      "CFF     -0.001067  1.121296 -0.082141  0.615408 -0.067966       NaN       NaN   \n",
      "FF5     -0.000965  1.119521 -0.090550  0.621209 -0.067176 -0.024726       NaN   \n",
      "CFF_CMA -0.000287  1.085633 -0.077029  0.761066 -0.048555       NaN -0.333166   \n",
      "FF6     -0.000049  1.080923 -0.094894  0.777203 -0.046367 -0.052916 -0.341680   \n",
      "\n",
      "            R_adj  \n",
      "FF3      0.858814  \n",
      "CFF      0.861219  \n",
      "FF5      0.860984  \n",
      "CFF_CMA  0.868910  \n",
      "FF6      0.868995  \n",
      "----------------------------------------------------\n",
      "Other\n",
      "            Alpha    Mkt-RF       SMB       HML       MOM       RMW       CMA  \\\n",
      "FF3     -0.002374  1.064106  0.144347  0.175911       NaN       NaN       NaN   \n",
      "CFF     -0.002133  1.054248  0.144759  0.163944 -0.034930       NaN       NaN   \n",
      "FF5     -0.002732  1.064701  0.194281  0.129779 -0.039587  0.145621       NaN   \n",
      "CFF_CMA -0.002189  1.056801  0.144393  0.153514 -0.036320       NaN  0.023855   \n",
      "FF6     -0.002861  1.070114  0.194890  0.107902 -0.042505  0.149575  0.047918   \n",
      "\n",
      "            R_adj  \n",
      "FF3      0.891763  \n",
      "CFF      0.892367  \n",
      "FF5      0.895654  \n",
      "CFF_CMA  0.892167  \n",
      "FF6      0.895606  \n"
     ]
    }
   ],
   "source": [
    "##generate the results for betas and adjusted R2\n",
    "Adjusted_R2 = pd.DataFrame()\n",
    "beta_results = {}\n",
    "for portfolio in list(portfolio_return.columns):\n",
    "    print('----------------------------------------------------')\n",
    "    print(portfolio)\n",
    "    reg_result = generate_reg_result(portfolio, portfolio_return, FF_data, factor_comb, result_table_cols)\n",
    "    beta_results[portfolio] = reg_result\n",
    "    print(reg_result)\n",
    "    Adjusted_R2[portfolio] = reg_result['R_adj']"
   ]
  },
  {
   "cell_type": "code",
   "execution_count": 12,
   "metadata": {},
   "outputs": [
    {
     "data": {
      "text/html": [
       "<div>\n",
       "<style scoped>\n",
       "    .dataframe tbody tr th:only-of-type {\n",
       "        vertical-align: middle;\n",
       "    }\n",
       "\n",
       "    .dataframe tbody tr th {\n",
       "        vertical-align: top;\n",
       "    }\n",
       "\n",
       "    .dataframe thead th {\n",
       "        text-align: right;\n",
       "    }\n",
       "</style>\n",
       "<table border=\"1\" class=\"dataframe\">\n",
       "  <thead>\n",
       "    <tr style=\"text-align: right;\">\n",
       "      <th></th>\n",
       "      <th>NoDur</th>\n",
       "      <th>Durbl</th>\n",
       "      <th>Manuf</th>\n",
       "      <th>Enrgy</th>\n",
       "      <th>Chems</th>\n",
       "      <th>BusEq</th>\n",
       "      <th>Telcm</th>\n",
       "      <th>Utils</th>\n",
       "      <th>Shops</th>\n",
       "      <th>Hlth</th>\n",
       "      <th>Money</th>\n",
       "      <th>Other</th>\n",
       "    </tr>\n",
       "  </thead>\n",
       "  <tbody>\n",
       "    <tr>\n",
       "      <th>FF3</th>\n",
       "      <td>0.620383</td>\n",
       "      <td>0.593559</td>\n",
       "      <td>0.864719</td>\n",
       "      <td>0.479404</td>\n",
       "      <td>0.687841</td>\n",
       "      <td>0.833727</td>\n",
       "      <td>0.640599</td>\n",
       "      <td>0.317599</td>\n",
       "      <td>0.751607</td>\n",
       "      <td>0.563764</td>\n",
       "      <td>0.858814</td>\n",
       "      <td>0.891763</td>\n",
       "    </tr>\n",
       "    <tr>\n",
       "      <th>CFF</th>\n",
       "      <td>0.622416</td>\n",
       "      <td>0.623521</td>\n",
       "      <td>0.866074</td>\n",
       "      <td>0.479183</td>\n",
       "      <td>0.687360</td>\n",
       "      <td>0.839047</td>\n",
       "      <td>0.642270</td>\n",
       "      <td>0.329608</td>\n",
       "      <td>0.751210</td>\n",
       "      <td>0.570912</td>\n",
       "      <td>0.861219</td>\n",
       "      <td>0.892367</td>\n",
       "    </tr>\n",
       "    <tr>\n",
       "      <th>FF5</th>\n",
       "      <td>0.696360</td>\n",
       "      <td>0.628242</td>\n",
       "      <td>0.880390</td>\n",
       "      <td>0.478478</td>\n",
       "      <td>0.731696</td>\n",
       "      <td>0.850656</td>\n",
       "      <td>0.648503</td>\n",
       "      <td>0.333186</td>\n",
       "      <td>0.793998</td>\n",
       "      <td>0.575504</td>\n",
       "      <td>0.860984</td>\n",
       "      <td>0.895654</td>\n",
       "    </tr>\n",
       "    <tr>\n",
       "      <th>CFF_CMA</th>\n",
       "      <td>0.636463</td>\n",
       "      <td>0.622797</td>\n",
       "      <td>0.866368</td>\n",
       "      <td>0.483385</td>\n",
       "      <td>0.697033</td>\n",
       "      <td>0.842381</td>\n",
       "      <td>0.650338</td>\n",
       "      <td>0.349887</td>\n",
       "      <td>0.752014</td>\n",
       "      <td>0.586867</td>\n",
       "      <td>0.868910</td>\n",
       "      <td>0.892167</td>\n",
       "    </tr>\n",
       "    <tr>\n",
       "      <th>FF6</th>\n",
       "      <td>0.719642</td>\n",
       "      <td>0.627392</td>\n",
       "      <td>0.881618</td>\n",
       "      <td>0.483154</td>\n",
       "      <td>0.747308</td>\n",
       "      <td>0.855796</td>\n",
       "      <td>0.654965</td>\n",
       "      <td>0.356361</td>\n",
       "      <td>0.793695</td>\n",
       "      <td>0.594088</td>\n",
       "      <td>0.868995</td>\n",
       "      <td>0.895606</td>\n",
       "    </tr>\n",
       "  </tbody>\n",
       "</table>\n",
       "</div>"
      ],
      "text/plain": [
       "            NoDur     Durbl     Manuf     Enrgy     Chems     BusEq     Telcm  \\\n",
       "FF3      0.620383  0.593559  0.864719  0.479404  0.687841  0.833727  0.640599   \n",
       "CFF      0.622416  0.623521  0.866074  0.479183  0.687360  0.839047  0.642270   \n",
       "FF5      0.696360  0.628242  0.880390  0.478478  0.731696  0.850656  0.648503   \n",
       "CFF_CMA  0.636463  0.622797  0.866368  0.483385  0.697033  0.842381  0.650338   \n",
       "FF6      0.719642  0.627392  0.881618  0.483154  0.747308  0.855796  0.654965   \n",
       "\n",
       "            Utils     Shops      Hlth     Money     Other  \n",
       "FF3      0.317599  0.751607  0.563764  0.858814  0.891763  \n",
       "CFF      0.329608  0.751210  0.570912  0.861219  0.892367  \n",
       "FF5      0.333186  0.793998  0.575504  0.860984  0.895654  \n",
       "CFF_CMA  0.349887  0.752014  0.586867  0.868910  0.892167  \n",
       "FF6      0.356361  0.793695  0.594088  0.868995  0.895606  "
      ]
     },
     "execution_count": 12,
     "metadata": {},
     "output_type": "execute_result"
    }
   ],
   "source": [
    "##print the adjusted R2\n",
    "Adjusted_R2"
   ]
  },
  {
   "cell_type": "code",
   "execution_count": 13,
   "metadata": {},
   "outputs": [
    {
     "data": {
      "image/png": "[encoded data removed]",
      "text/plain": [
       "<Figure size 1152x648 with 1 Axes>"
      ]
     },
     "metadata": {
      "needs_background": "light"
     },
     "output_type": "display_data"
    }
   ],
   "source": [
    "##Use bar chart to show the tendency of adjusted R2\n",
    "bar_chart_plot(Adjusted_R2, 0.1, 'Portfolios', 'Adjusted_R2')"
   ]
  },
  {
   "cell_type": "markdown",
   "metadata": {},
   "source": [
    "**t-test**"
   ]
  },
  {
   "cell_type": "code",
   "execution_count": 14,
   "metadata": {},
   "outputs": [
    {
     "name": "stdout",
     "output_type": "stream",
     "text": [
      "{'FF3&CFF': 0.9430936982254641, 'FF3&FF5': 0.7558157584860876, 'FF3&CFF_CMA': 0.8646165528418718, 'FF3&FF6': 0.6619613299170486, 'CFF&FF5': 0.8085041202468058, 'CFF&CFF_CMA': 0.9210611952417307, 'CFF&FF6': 0.712132942748938, 'FF5&CFF_CMA': 0.882872782834146, 'FF5&FF6': 0.9022817115794796, 'CFF_CMA&FF6': 0.7836198909156191}\n"
     ]
    }
   ],
   "source": [
    "##Use t-stats to show if there is a big difference between the Adjusted R2 among different factor models\n",
    "t, p = t_stats(Adjusted_R2)\n",
    "print(p)"
   ]
  },
  {
   "cell_type": "markdown",
   "metadata": {},
   "source": [
    "### Conclusions"
   ]
  },
  {
   "cell_type": "markdown",
   "metadata": {},
   "source": [
    "We used Adjusted R2 to measure the model performance because it measures to which extend the dependent variable can be explained by the independent variables. But unlike R2, which will always increase by adding more independent variables, the adjusted R2 adds precision and reliability by considering the impact of additional independent variables that tend to skew the results of R-squared measurements.<br>\n",
    "<br>\n",
    "The conclusions of this sub-section are: <br>\n",
    "* 1. From the bar chart, we can observe an increase trend when adding factors 5 and/or 6 among the 12 portfolios, expecially for some of the portfolios (e.g., NoDur) the trend is obvious.\n",
    "* 2. However, we also performed the t-test to test the adjusted R2 difference between different factor models (with 12 samples for each test) and printed out the pvalues, but just found none of the test is significant. \n",
    "* 3. Based on the above two observations, we can conclude, for some of the portfolios, adding factor 5 and 6 will be helpful, but in general, FF3 and CFF should be adequate from the statistical perspective."
   ]
  },
  {
   "cell_type": "markdown",
   "metadata": {},
   "source": [
    "## Answer 1.a (2)"
   ]
  },
  {
   "cell_type": "markdown",
   "metadata": {},
   "source": [
    "Next, I checked the time variation of the betas. For this purpose, I evenly divide the entire testing history into 12 pieces (~ 3 year a piece), and ploted the bar chart."
   ]
  },
  {
   "cell_type": "code",
   "execution_count": 15,
   "metadata": {},
   "outputs": [],
   "source": [
    "##This function is to calculate the average std per factor model and industry\n",
    "\n",
    "def calc_beta_std(portfolio_return, FF_data, factor_comb, result_table_cols, reg_method):\n",
    "    ## divide the time period in to 12 pieces (~3 year a piece)\n",
    "    times = portfolio_return.index\n",
    "    time_cuts = 12\n",
    "    time_total = times.shape[0]\n",
    "\n",
    "    #create an empty dataframe to store the beta std results\n",
    "    beta_std_bytime = pd.DataFrame()\n",
    "    std_total = {} #store the 3d matrix for each portfolios\n",
    "    for portfolio in list(portfolio_return.columns):\n",
    "        reg_panel = []\n",
    "        for i in range(time_cuts):\n",
    "            start = times[int(i * time_total / time_cuts)]\n",
    "            end = times[min(int((i+1) * time_total / time_cuts), time_total-1)]\n",
    "            #apply the predefined regression function to calculate the betas\n",
    "            if reg_method == 'OLS':\n",
    "                reg_result = generate_reg_result(portfolio, portfolio_return.loc[start: end], FF_data.loc[start: end], factor_comb, result_table_cols)\n",
    "                reg_panel.append(reg_result) \n",
    "            elif reg_method == 'GLS':\n",
    "                reg_result = generate_reg_result_GLS(portfolio, portfolio_return.loc[start: end], FF_data.loc[start: end], factor_comb, result_table_cols)\n",
    "                reg_panel.append(reg_result) \n",
    "            elif reg_method == 'WLS':\n",
    "                reg_result = generate_reg_result_WLS(portfolio, portfolio_return.loc[start: end], FF_data.loc[start: end], factor_comb, result_table_cols)\n",
    "                reg_panel.append(reg_result) \n",
    "        \n",
    "        #calculate the beta std along time cuts\n",
    "        beta_std = np.std(reg_panel, axis = 0)\n",
    "        #calculate the mean std of betas for each FF methods\n",
    "        beta_std_bytime[portfolio] = np.nanmean(beta_std, axis = 1) \n",
    "    beta_std_bytime.index = factor_comb.keys()\n",
    "    return beta_std_bytime"
   ]
  },
  {
   "cell_type": "code",
   "execution_count": 16,
   "metadata": {},
   "outputs": [],
   "source": [
    "##Calculate the beta std of OLS\n",
    "beta_std_bytime = calc_beta_std(portfolio_return, FF_data, factor_comb, result_table_cols, 'OLS')"
   ]
  },
  {
   "cell_type": "code",
   "execution_count": 17,
   "metadata": {},
   "outputs": [
    {
     "data": {
      "image/png": "[encoded data removed]",
      "text/plain": [
       "<Figure size 1152x648 with 1 Axes>"
      ]
     },
     "metadata": {
      "needs_background": "light"
     },
     "output_type": "display_data"
    }
   ],
   "source": [
    "##Plot the bar chart on the beta standard deviations\n",
    "bar_chart_plot(beta_std_bytime, 0.1, 'Portfolios', 'Mean_Beta_Std')"
   ]
  },
  {
   "cell_type": "markdown",
   "metadata": {},
   "source": [
    "### Conclusions: "
   ]
  },
  {
   "cell_type": "markdown",
   "metadata": {},
   "source": [
    "* 1. There exists beta time variations (represented by beta standard deviations), and the time variations for different factors and different portfolios are different.\n",
    "* 2. For some portfolios (e.g., Enrgy and Durbl), the beta time variations are generally greater than other portfolios.\n",
    "* 3. There is a monotonic pattern for the beta variations among different FF factor models, generally the more complex the model, the greater the time variation, and adding the RMW and CMA factors will definitely increase such variations. One guess is adding the RMW and CMA factors will somehow add multicollinearity to the model or cause heteroscedasticity, which will be tested in the next sub-question. But they are not the only reasons to cause time variations in beta estimation. The market conditions change (e.g., crisis) and the industry cycle rotations can also be some reasons to cause the variation."
   ]
  },
  {
   "cell_type": "markdown",
   "metadata": {},
   "source": [
    "## Answer 1.b"
   ]
  },
  {
   "cell_type": "markdown",
   "metadata": {},
   "source": [
    "As we observed the time variations for betas, and the variation increased with model complexity. It is probably there exists multicollinearity between factors. "
   ]
  },
  {
   "cell_type": "markdown",
   "metadata": {},
   "source": [
    "**Correlation Heatmap**"
   ]
  },
  {
   "cell_type": "code",
   "execution_count": 18,
   "metadata": {},
   "outputs": [],
   "source": [
    "##Correlations between factors\n",
    "#plot the correlation heatmap\n",
    "import seaborn as sb\n",
    "def correlation_calc(data, correlation_method = 'pearson'):\n",
    "    plt.figure(figsize=(16, 9))\n",
    "    heatmap = sb.heatmap(data.corr(method = correlation_method), cmap=\"YlGnBu\",  annot=True)\n",
    "    heatmap.set_title('Correlation Heatmap', fontdict={'fontsize':12}, pad=12)"
   ]
  },
  {
   "cell_type": "code",
   "execution_count": 19,
   "metadata": {},
   "outputs": [
    {
     "data": {
      "image/png": "[encoded data removed]",
      "text/plain": [
       "<Figure size 1152x648 with 2 Axes>"
      ]
     },
     "metadata": {
      "needs_background": "light"
     },
     "output_type": "display_data"
    }
   ],
   "source": [
    "correlation_calc(FF_data[['Mkt-RF', 'SMB','HML','MOM', 'RMW', 'CMA']])"
   ]
  },
  {
   "cell_type": "markdown",
   "metadata": {},
   "source": [
    "The heatmap shows overall the corrlations between factors are not high. The correlation between HML and CMA is relatively higher, which is 0.66. To make the conclusion more clear, I will use calculate the VIF for each factor to further explain."
   ]
  },
  {
   "cell_type": "markdown",
   "metadata": {},
   "source": [
    "**VIF**"
   ]
  },
  {
   "cell_type": "code",
   "execution_count": 20,
   "metadata": {},
   "outputs": [
    {
     "data": {
      "text/html": [
       "<div>\n",
       "<style scoped>\n",
       "    .dataframe tbody tr th:only-of-type {\n",
       "        vertical-align: middle;\n",
       "    }\n",
       "\n",
       "    .dataframe tbody tr th {\n",
       "        vertical-align: top;\n",
       "    }\n",
       "\n",
       "    .dataframe thead th {\n",
       "        text-align: right;\n",
       "    }\n",
       "</style>\n",
       "<table border=\"1\" class=\"dataframe\">\n",
       "  <thead>\n",
       "    <tr style=\"text-align: right;\">\n",
       "      <th></th>\n",
       "      <th>factor</th>\n",
       "      <th>VIF</th>\n",
       "    </tr>\n",
       "  </thead>\n",
       "  <tbody>\n",
       "    <tr>\n",
       "      <th>0</th>\n",
       "      <td>Mkt-RF</td>\n",
       "      <td>1.254654</td>\n",
       "    </tr>\n",
       "    <tr>\n",
       "      <th>1</th>\n",
       "      <td>SMB</td>\n",
       "      <td>1.287180</td>\n",
       "    </tr>\n",
       "    <tr>\n",
       "      <th>2</th>\n",
       "      <td>HML</td>\n",
       "      <td>2.156839</td>\n",
       "    </tr>\n",
       "    <tr>\n",
       "      <th>3</th>\n",
       "      <td>MOM</td>\n",
       "      <td>1.167149</td>\n",
       "    </tr>\n",
       "    <tr>\n",
       "      <th>4</th>\n",
       "      <td>RMW</td>\n",
       "      <td>1.441510</td>\n",
       "    </tr>\n",
       "    <tr>\n",
       "      <th>5</th>\n",
       "      <td>CMA</td>\n",
       "      <td>2.038768</td>\n",
       "    </tr>\n",
       "  </tbody>\n",
       "</table>\n",
       "</div>"
      ],
      "text/plain": [
       "   factor       VIF\n",
       "0  Mkt-RF  1.254654\n",
       "1     SMB  1.287180\n",
       "2     HML  2.156839\n",
       "3     MOM  1.167149\n",
       "4     RMW  1.441510\n",
       "5     CMA  2.038768"
      ]
     },
     "execution_count": 20,
     "metadata": {},
     "output_type": "execute_result"
    }
   ],
   "source": [
    "##VIF\n",
    "from statsmodels.stats.outliers_influence import variance_inflation_factor\n",
    "# VIF dataframe\n",
    "vif_factors = pd.DataFrame()\n",
    "vif_factors[\"factor\"] = ['Mkt-RF', 'SMB','HML','MOM', 'RMW', 'CMA']\n",
    "  \n",
    "# calculating VIF for each factor\n",
    "vif_factors[\"VIF\"] = [variance_inflation_factor(FF_data[['Mkt-RF', 'SMB','HML','MOM', 'RMW', 'CMA']].values, i)\n",
    "                          for i in range(len(vif_factors[\"factor\"]))]\n",
    "vif_factors"
   ]
  },
  {
   "cell_type": "markdown",
   "metadata": {},
   "source": [
    "The VIF for HML and CMA are relatively higher than the others, which is consistent with the result from the correlation heatmap. However, the values are far below 5, which we can regard there is no multicollinearity issue between factors. **And the time variation of betas are probably not caused by multicollinearity.** "
   ]
  },
  {
   "cell_type": "markdown",
   "metadata": {},
   "source": [
    "**Another reason that can cause variation in beta is heteroscedasticity.** When the errors are heteroskedastic and/or correlated, the variance of beta will be incorrect, which will further lead to errors in the calculation of standard errors, z-scores, p-values and confidence intervals of the estimated coefficients. Thus, in the next step, I will test the heteroscedasticity for the errors. Also, as we observed the 'Enrgy' portfolio has the largest variation, I will focus the investigation on this portfolio."
   ]
  },
  {
   "cell_type": "markdown",
   "metadata": {},
   "source": [
    "**White Test**"
   ]
  },
  {
   "cell_type": "code",
   "execution_count": 21,
   "metadata": {},
   "outputs": [
    {
     "data": {
      "text/plain": [
       "[('Lagrange multiplier statistic', 115.93468362778185),\n",
       " ('p-value', 5.429521641159989e-13),\n",
       " ('f-value', 5.466250324946777),\n",
       " ('f p-value', 2.128940002236411e-15)]"
      ]
     },
     "execution_count": 21,
     "metadata": {},
     "output_type": "execute_result"
    }
   ],
   "source": [
    "#import packages\n",
    "from statsmodels.stats.diagnostic import het_white\n",
    "from statsmodels.compat import lzip\n",
    "\n",
    "#run the regression for 'Enrgy' portfolio for FF6 factor model\n",
    "y = np.array(portfolio_return['Enrgy']-FF_data['RF'])\n",
    "X = np.array(FF_data[factor_comb['FF6']])\n",
    "X = sm.add_constant(X)\n",
    "model = sm.OLS(y,X).fit()\n",
    "#Perform White Test\n",
    "resid = model.resid\n",
    "white_test = het_white(model.resid,  model.model.exog)\n",
    "#Zipping the array with labels\n",
    "names = ['Lagrange multiplier statistic', 'p-value','f-value', 'f p-value']\n",
    "#show the results\n",
    "lzip(names,white_test)"
   ]
  },
  {
   "cell_type": "markdown",
   "metadata": {},
   "source": [
    "The White Test is done by passing the residuals and all the independent variables. The White Test has the null hypothesis that the errors have same variance or homoscedastic. Having a p-value ≤ 0.05 would indicate that the null hypothesis is rejected, hence heteroscedasticity."
   ]
  },
  {
   "cell_type": "markdown",
   "metadata": {},
   "source": [
    "Thus, I performed the White Test for 'Enrgy' porfolio on FF6 factor model, and observed the p-value to be significantly less than 0.05. **This indicates there exists heteroscedasticity.** "
   ]
  },
  {
   "cell_type": "markdown",
   "metadata": {},
   "source": [
    "**Scatter Plot**"
   ]
  },
  {
   "cell_type": "code",
   "execution_count": 22,
   "metadata": {},
   "outputs": [
    {
     "data": {
      "image/png": "[encoded data removed]",
      "text/plain": [
       "<Figure size 432x288 with 1 Axes>"
      ]
     },
     "metadata": {
      "needs_background": "light"
     },
     "output_type": "display_data"
    }
   ],
   "source": [
    "#Plot the residulas against the fitted values \n",
    "y_predicted  = model.predict(X)\n",
    "plt.scatter(y_predicted, model.resid)\n",
    "plt.xlabel('Fitted Values')\n",
    "plt.ylabel('Residuals')\n",
    "plt.show()"
   ]
  },
  {
   "cell_type": "markdown",
   "metadata": {},
   "source": [
    "As can been seen in the plot, the residuals become much more spread out as the fitted values get larger, so we again confirmed that there exists heteroscedasticity."
   ]
  },
  {
   "cell_type": "markdown",
   "metadata": {},
   "source": [
    "The way we want to deal with heteroscedasticity is to apply **Generalized Least Squares (GLS) model and Weighted Least Squares(WLS)**"
   ]
  },
  {
   "cell_type": "markdown",
   "metadata": {},
   "source": [
    "**GLS**"
   ]
  },
  {
   "cell_type": "code",
   "execution_count": 23,
   "metadata": {},
   "outputs": [],
   "source": [
    "##This function is to perform GLS on the factor models, and return the regression results in tables\n",
    "\n",
    "from scipy.linalg import toeplitz\n",
    "def generate_reg_result_GLS(portfolio, portfolio_return, FF_data, factor_comb, result_table_cols):\n",
    "    ##create empty table to store the regression results\n",
    "    reg_result_GLS = np.empty((len(factor_comb), len(result_table_cols)))\n",
    "    reg_result_GLS[:] = np.nan\n",
    "    reg_result_GLS = pd.DataFrame(reg_result)\n",
    "    reg_result_GLS.columns = result_table_cols\n",
    "    reg_result_GLS.index = factor_comb.keys()\n",
    "\n",
    "    ##fill the table with regression result\n",
    "    #iterate the factor combinations to test\n",
    "    for comb in factor_comb:\n",
    "        #define the dependent and independent variables\n",
    "        y = np.array(portfolio_return[portfolio]-FF_data['RF'])\n",
    "        X = np.array(FF_data[factor_comb[comb]])\n",
    "        #add constant term\n",
    "        X = sm.add_constant(X)\n",
    "        #OLS\n",
    "        reg = sm.OLS(y, X).fit()\n",
    "        \n",
    "        #Assume the residual follows AR(1) and calculate the coefficient to construct covariance matrix fed into the GLS regression\n",
    "        ols_resid = reg.resid\n",
    "        res_fit = sm.OLS(list(ols_resid[1:]), list(ols_resid[:-1])).fit()\n",
    "        rho = res_fit.params\n",
    "        #Construct the covariance matrix\n",
    "        order = toeplitz(np.arange(len(ols_resid)))\n",
    "        sigma = rho**order\n",
    "        gls_model = sm.GLS(y, X, sigma=sigma)\n",
    "        reg_GLS = gls_model.fit()\n",
    "        #fill the result table with output parameters\n",
    "        reg_result_GLS.loc[comb]['Alpha'] = reg_GLS.params[0]\n",
    "        #reg_result_GLS.loc[comb]['Alpha_t'] = reg_GLS.tvalues[0]\n",
    "        reg_result_GLS.loc[comb]['R_adj'] = reg_GLS.rsquared_adj\n",
    "        for i in range(len(factor_comb[comb])):\n",
    "            reg_result_GLS.loc[comb][factor_comb[comb][i]] = reg_GLS.params[i+1]\n",
    "            #reg_result_GLS.loc[comb][factor_comb[comb][i]+'_t'] = reg_GLS.tvalues[i+1]\n",
    "    return reg_result_GLS"
   ]
  },
  {
   "cell_type": "markdown",
   "metadata": {},
   "source": [
    "**WLS**"
   ]
  },
  {
   "cell_type": "code",
   "execution_count": 24,
   "metadata": {},
   "outputs": [],
   "source": [
    "##This function is to perform WLS on the factor models, and return the regression results in tables\n",
    "\n",
    "def generate_reg_result_WLS(portfolio, portfolio_return, FF_data, factor_comb, result_table_cols):\n",
    "    ##create empty table to store the regression results\n",
    "    reg_result_WLS = np.empty((len(factor_comb), len(result_table_cols)))\n",
    "    reg_result_WLS[:] = np.nan\n",
    "    reg_result_WLS = pd.DataFrame(reg_result)\n",
    "    reg_result_WLS.columns = result_table_cols\n",
    "    reg_result_WLS.index = factor_comb.keys()\n",
    "\n",
    "    ##fill the table with regression result\n",
    "    #iterate the factor combinations to test\n",
    "    for comb in factor_comb:\n",
    "        #define the dependent and independent variables\n",
    "        y = np.array(portfolio_return[portfolio]-FF_data['RF'])\n",
    "        X = np.array(FF_data[factor_comb[comb]])\n",
    "        #add constant term\n",
    "        X = sm.add_constant(X)\n",
    "        #OLS\n",
    "        reg = sm.OLS(y, X).fit()\n",
    "        \n",
    "        ols_resid = reg.resid\n",
    "        residuals_squared = ols_resid ** 2\n",
    "\n",
    "        # Calculate the weights based on the squared residuals\n",
    "        weights = 1.0 / residuals_squared\n",
    "\n",
    "        # Fit the weighted least squares (WLS) model\n",
    "        wls_model = sm.WLS(y, X, weights=weights)\n",
    "        reg_WLS = wls_model.fit()\n",
    "        #fill the result table with output parameters\n",
    "        reg_result_WLS.loc[comb]['Alpha'] = reg_WLS.params[0]\n",
    "        #reg_result_WLS.loc[comb]['Alpha_t'] = reg_WLS.tvalues[0]\n",
    "        reg_result_WLS.loc[comb]['R_adj'] = reg_WLS.rsquared_adj\n",
    "        for i in range(len(factor_comb[comb])):\n",
    "            reg_result_WLS.loc[comb][factor_comb[comb][i]] = reg_WLS.params[i+1]\n",
    "            #reg_result_WLS.loc[comb][factor_comb[comb][i]+'_t'] = reg_WLS.tvalues[i+1]\n",
    "    return reg_result_WLS"
   ]
  },
  {
   "cell_type": "code",
   "execution_count": 25,
   "metadata": {},
   "outputs": [
    {
     "data": {
      "text/html": [
       "<div>\n",
       "<style scoped>\n",
       "    .dataframe tbody tr th:only-of-type {\n",
       "        vertical-align: middle;\n",
       "    }\n",
       "\n",
       "    .dataframe tbody tr th {\n",
       "        vertical-align: top;\n",
       "    }\n",
       "\n",
       "    .dataframe thead th {\n",
       "        text-align: right;\n",
       "    }\n",
       "</style>\n",
       "<table border=\"1\" class=\"dataframe\">\n",
       "  <thead>\n",
       "    <tr style=\"text-align: right;\">\n",
       "      <th></th>\n",
       "      <th>NoDur</th>\n",
       "      <th>Durbl</th>\n",
       "      <th>Manuf</th>\n",
       "      <th>Enrgy</th>\n",
       "      <th>Chems</th>\n",
       "      <th>BusEq</th>\n",
       "      <th>Telcm</th>\n",
       "      <th>Utils</th>\n",
       "      <th>Shops</th>\n",
       "      <th>Hlth</th>\n",
       "      <th>Money</th>\n",
       "      <th>Other</th>\n",
       "    </tr>\n",
       "  </thead>\n",
       "  <tbody>\n",
       "    <tr>\n",
       "      <th>FF3</th>\n",
       "      <td>5.551115e-17</td>\n",
       "      <td>4.440892e-17</td>\n",
       "      <td>5.551115e-17</td>\n",
       "      <td>1.224715e-16</td>\n",
       "      <td>6.670012e-17</td>\n",
       "      <td>8.344020e-17</td>\n",
       "      <td>2.220446e-17</td>\n",
       "      <td>5.555452e-17</td>\n",
       "      <td>5.273559e-17</td>\n",
       "      <td>2.226951e-17</td>\n",
       "      <td>7.771561e-17</td>\n",
       "      <td>7.216450e-17</td>\n",
       "    </tr>\n",
       "    <tr>\n",
       "      <th>CFF</th>\n",
       "      <td>1.850372e-17</td>\n",
       "      <td>1.000357e-16</td>\n",
       "      <td>2.544261e-17</td>\n",
       "      <td>1.043725e-16</td>\n",
       "      <td>4.690981e-17</td>\n",
       "      <td>4.163336e-17</td>\n",
       "      <td>5.580027e-17</td>\n",
       "      <td>4.629543e-17</td>\n",
       "      <td>1.249001e-16</td>\n",
       "      <td>5.059610e-17</td>\n",
       "      <td>7.415943e-17</td>\n",
       "      <td>7.748432e-17</td>\n",
       "    </tr>\n",
       "    <tr>\n",
       "      <th>FF5</th>\n",
       "      <td>5.966210e-17</td>\n",
       "      <td>1.481949e-16</td>\n",
       "      <td>6.938894e-17</td>\n",
       "      <td>9.119689e-17</td>\n",
       "      <td>6.839767e-17</td>\n",
       "      <td>3.977473e-17</td>\n",
       "      <td>2.701212e-17</td>\n",
       "      <td>3.469447e-17</td>\n",
       "      <td>1.833851e-17</td>\n",
       "      <td>4.027037e-18</td>\n",
       "      <td>7.149539e-17</td>\n",
       "      <td>5.055480e-17</td>\n",
       "    </tr>\n",
       "    <tr>\n",
       "      <th>CFF_CMA</th>\n",
       "      <td>2.973812e-17</td>\n",
       "      <td>1.110223e-16</td>\n",
       "      <td>4.163336e-17</td>\n",
       "      <td>5.960014e-17</td>\n",
       "      <td>8.326673e-17</td>\n",
       "      <td>9.417070e-17</td>\n",
       "      <td>3.816392e-17</td>\n",
       "      <td>4.758099e-17</td>\n",
       "      <td>3.965082e-17</td>\n",
       "      <td>7.539852e-17</td>\n",
       "      <td>6.560972e-17</td>\n",
       "      <td>7.335402e-17</td>\n",
       "    </tr>\n",
       "    <tr>\n",
       "      <th>FF6</th>\n",
       "      <td>4.597017e-17</td>\n",
       "      <td>6.982262e-17</td>\n",
       "      <td>9.036825e-17</td>\n",
       "      <td>1.322727e-16</td>\n",
       "      <td>3.079134e-17</td>\n",
       "      <td>2.428613e-17</td>\n",
       "      <td>3.144186e-17</td>\n",
       "      <td>4.597017e-17</td>\n",
       "      <td>5.377643e-17</td>\n",
       "      <td>4.521123e-17</td>\n",
       "      <td>6.158268e-17</td>\n",
       "      <td>8.153200e-17</td>\n",
       "    </tr>\n",
       "  </tbody>\n",
       "</table>\n",
       "</div>"
      ],
      "text/plain": [
       "                NoDur         Durbl         Manuf         Enrgy         Chems  \\\n",
       "FF3      5.551115e-17  4.440892e-17  5.551115e-17  1.224715e-16  6.670012e-17   \n",
       "CFF      1.850372e-17  1.000357e-16  2.544261e-17  1.043725e-16  4.690981e-17   \n",
       "FF5      5.966210e-17  1.481949e-16  6.938894e-17  9.119689e-17  6.839767e-17   \n",
       "CFF_CMA  2.973812e-17  1.110223e-16  4.163336e-17  5.960014e-17  8.326673e-17   \n",
       "FF6      4.597017e-17  6.982262e-17  9.036825e-17  1.322727e-16  3.079134e-17   \n",
       "\n",
       "                BusEq         Telcm         Utils         Shops          Hlth  \\\n",
       "FF3      8.344020e-17  2.220446e-17  5.555452e-17  5.273559e-17  2.226951e-17   \n",
       "CFF      4.163336e-17  5.580027e-17  4.629543e-17  1.249001e-16  5.059610e-17   \n",
       "FF5      3.977473e-17  2.701212e-17  3.469447e-17  1.833851e-17  4.027037e-18   \n",
       "CFF_CMA  9.417070e-17  3.816392e-17  4.758099e-17  3.965082e-17  7.539852e-17   \n",
       "FF6      2.428613e-17  3.144186e-17  4.597017e-17  5.377643e-17  4.521123e-17   \n",
       "\n",
       "                Money         Other  \n",
       "FF3      7.771561e-17  7.216450e-17  \n",
       "CFF      7.415943e-17  7.748432e-17  \n",
       "FF5      7.149539e-17  5.055480e-17  \n",
       "CFF_CMA  6.560972e-17  7.335402e-17  \n",
       "FF6      6.158268e-17  8.153200e-17  "
      ]
     },
     "execution_count": 25,
     "metadata": {},
     "output_type": "execute_result"
    }
   ],
   "source": [
    "##Calculate the beta std of GLS\n",
    "beta_std_bytime_GLS = calc_beta_std(portfolio_return, FF_data, factor_comb, result_table_cols, 'GLS')\n",
    "beta_std_bytime_GLS"
   ]
  },
  {
   "cell_type": "code",
   "execution_count": 26,
   "metadata": {},
   "outputs": [
    {
     "data": {
      "image/png": "[encoded data removed]",
      "text/plain": [
       "<Figure size 1152x648 with 1 Axes>"
      ]
     },
     "metadata": {
      "needs_background": "light"
     },
     "output_type": "display_data"
    }
   ],
   "source": [
    "#Using the bar chart to compare the GLS and OLS beta std results\n",
    "bar_chart_plot(beta_std_bytime-beta_std_bytime_GLS, 0.1, 'Portfolios', 'Beta_std_difference_OLS&GLS')"
   ]
  },
  {
   "cell_type": "code",
   "execution_count": 27,
   "metadata": {},
   "outputs": [
    {
     "data": {
      "text/html": [
       "<div>\n",
       "<style scoped>\n",
       "    .dataframe tbody tr th:only-of-type {\n",
       "        vertical-align: middle;\n",
       "    }\n",
       "\n",
       "    .dataframe tbody tr th {\n",
       "        vertical-align: top;\n",
       "    }\n",
       "\n",
       "    .dataframe thead th {\n",
       "        text-align: right;\n",
       "    }\n",
       "</style>\n",
       "<table border=\"1\" class=\"dataframe\">\n",
       "  <thead>\n",
       "    <tr style=\"text-align: right;\">\n",
       "      <th></th>\n",
       "      <th>NoDur</th>\n",
       "      <th>Durbl</th>\n",
       "      <th>Manuf</th>\n",
       "      <th>Enrgy</th>\n",
       "      <th>Chems</th>\n",
       "      <th>BusEq</th>\n",
       "      <th>Telcm</th>\n",
       "      <th>Utils</th>\n",
       "      <th>Shops</th>\n",
       "      <th>Hlth</th>\n",
       "      <th>Money</th>\n",
       "      <th>Other</th>\n",
       "    </tr>\n",
       "  </thead>\n",
       "  <tbody>\n",
       "    <tr>\n",
       "      <th>FF3</th>\n",
       "      <td>5.551115e-17</td>\n",
       "      <td>1.786765e-16</td>\n",
       "      <td>7.771561e-17</td>\n",
       "      <td>8.881784e-17</td>\n",
       "      <td>7.771561e-17</td>\n",
       "      <td>3.903128e-17</td>\n",
       "      <td>1.117162e-16</td>\n",
       "      <td>3.343679e-17</td>\n",
       "      <td>9.436896e-17</td>\n",
       "      <td>4.857226e-17</td>\n",
       "      <td>1.444157e-16</td>\n",
       "      <td>1.221245e-16</td>\n",
       "    </tr>\n",
       "    <tr>\n",
       "      <th>CFF</th>\n",
       "      <td>8.333901e-17</td>\n",
       "      <td>2.451743e-16</td>\n",
       "      <td>1.850372e-17</td>\n",
       "      <td>1.202742e-16</td>\n",
       "      <td>6.649773e-17</td>\n",
       "      <td>1.087093e-16</td>\n",
       "      <td>4.654841e-17</td>\n",
       "      <td>3.241764e-17</td>\n",
       "      <td>7.864080e-17</td>\n",
       "      <td>4.743385e-17</td>\n",
       "      <td>7.415943e-17</td>\n",
       "      <td>3.701647e-17</td>\n",
       "    </tr>\n",
       "    <tr>\n",
       "      <th>FF5</th>\n",
       "      <td>2.193186e-17</td>\n",
       "      <td>1.308477e-16</td>\n",
       "      <td>7.539852e-17</td>\n",
       "      <td>1.149874e-16</td>\n",
       "      <td>4.782880e-17</td>\n",
       "      <td>6.554777e-17</td>\n",
       "      <td>7.558438e-17</td>\n",
       "      <td>4.491695e-18</td>\n",
       "      <td>3.872151e-17</td>\n",
       "      <td>4.559845e-17</td>\n",
       "      <td>7.948751e-17</td>\n",
       "      <td>4.559845e-17</td>\n",
       "    </tr>\n",
       "    <tr>\n",
       "      <th>CFF_CMA</th>\n",
       "      <td>6.740640e-17</td>\n",
       "      <td>6.393695e-17</td>\n",
       "      <td>4.361590e-17</td>\n",
       "      <td>7.137148e-17</td>\n",
       "      <td>7.948751e-17</td>\n",
       "      <td>5.464379e-17</td>\n",
       "      <td>2.478176e-18</td>\n",
       "      <td>2.831317e-17</td>\n",
       "      <td>3.172066e-17</td>\n",
       "      <td>7.335402e-17</td>\n",
       "      <td>7.632783e-17</td>\n",
       "      <td>7.137148e-17</td>\n",
       "    </tr>\n",
       "    <tr>\n",
       "      <th>FF6</th>\n",
       "      <td>4.260915e-17</td>\n",
       "      <td>1.739060e-16</td>\n",
       "      <td>9.031404e-17</td>\n",
       "      <td>1.186117e-16</td>\n",
       "      <td>4.163336e-17</td>\n",
       "      <td>6.602791e-17</td>\n",
       "      <td>7.676151e-17</td>\n",
       "      <td>5.255670e-17</td>\n",
       "      <td>5.120145e-17</td>\n",
       "      <td>5.561957e-17</td>\n",
       "      <td>6.852158e-17</td>\n",
       "      <td>2.775558e-17</td>\n",
       "    </tr>\n",
       "  </tbody>\n",
       "</table>\n",
       "</div>"
      ],
      "text/plain": [
       "                NoDur         Durbl         Manuf         Enrgy         Chems  \\\n",
       "FF3      5.551115e-17  1.786765e-16  7.771561e-17  8.881784e-17  7.771561e-17   \n",
       "CFF      8.333901e-17  2.451743e-16  1.850372e-17  1.202742e-16  6.649773e-17   \n",
       "FF5      2.193186e-17  1.308477e-16  7.539852e-17  1.149874e-16  4.782880e-17   \n",
       "CFF_CMA  6.740640e-17  6.393695e-17  4.361590e-17  7.137148e-17  7.948751e-17   \n",
       "FF6      4.260915e-17  1.739060e-16  9.031404e-17  1.186117e-16  4.163336e-17   \n",
       "\n",
       "                BusEq         Telcm         Utils         Shops          Hlth  \\\n",
       "FF3      3.903128e-17  1.117162e-16  3.343679e-17  9.436896e-17  4.857226e-17   \n",
       "CFF      1.087093e-16  4.654841e-17  3.241764e-17  7.864080e-17  4.743385e-17   \n",
       "FF5      6.554777e-17  7.558438e-17  4.491695e-18  3.872151e-17  4.559845e-17   \n",
       "CFF_CMA  5.464379e-17  2.478176e-18  2.831317e-17  3.172066e-17  7.335402e-17   \n",
       "FF6      6.602791e-17  7.676151e-17  5.255670e-17  5.120145e-17  5.561957e-17   \n",
       "\n",
       "                Money         Other  \n",
       "FF3      1.444157e-16  1.221245e-16  \n",
       "CFF      7.415943e-17  3.701647e-17  \n",
       "FF5      7.948751e-17  4.559845e-17  \n",
       "CFF_CMA  7.632783e-17  7.137148e-17  \n",
       "FF6      6.852158e-17  2.775558e-17  "
      ]
     },
     "execution_count": 27,
     "metadata": {},
     "output_type": "execute_result"
    }
   ],
   "source": [
    "##Calculate the beta std of WLS\n",
    "beta_std_bytime_WLS = calc_beta_std(portfolio_return, FF_data, factor_comb, result_table_cols, 'WLS')\n",
    "beta_std_bytime_WLS"
   ]
  },
  {
   "cell_type": "code",
   "execution_count": 28,
   "metadata": {},
   "outputs": [
    {
     "data": {
      "image/png": "[encoded data removed]",
      "text/plain": [
       "<Figure size 1152x648 with 1 Axes>"
      ]
     },
     "metadata": {
      "needs_background": "light"
     },
     "output_type": "display_data"
    }
   ],
   "source": [
    "#Using the bar chart to compare the GLS and OLS beta std results\n",
    "bar_chart_plot(beta_std_bytime-beta_std_bytime_WLS, 0.1, 'Portfolios', 'Beta_std_difference_OLS&WLS')"
   ]
  },
  {
   "cell_type": "markdown",
   "metadata": {},
   "source": [
    "### Conclusions"
   ]
  },
  {
   "cell_type": "markdown",
   "metadata": {},
   "source": [
    "* 1. I investigated the reasons that caused the time variation of beta values, and figured out there is no multicollinearity but heteroskedasticity.\n",
    "* 2. GLS and WLS are applied to the models, which largely reduced the time variation of beta estimation (to almost 0)."
   ]
  },
  {
   "cell_type": "markdown",
   "metadata": {},
   "source": [
    "# Question 2"
   ]
  },
  {
   "cell_type": "markdown",
   "metadata": {},
   "source": [
    "*Question Description*\n",
    "* a. Which industry portfolios are closely related to each other (how many groups exist – a fundamental analyst may say there are two groups - defensive and cyclical)? \n",
    "* b. Does this relationship/group composition change through time?\n",
    "* c. What technique/s can you use to show this – why did you choose your technique over others?"
   ]
  },
  {
   "cell_type": "markdown",
   "metadata": {},
   "source": [
    "## Answer 2.a"
   ]
  },
  {
   "cell_type": "markdown",
   "metadata": {},
   "source": [
    "There are two ways I can think of to find the related groups: 1) draw the correlation heatmap to have a straghtforward visualization, and 2) use clustering method to classify the groups"
   ]
  },
  {
   "cell_type": "markdown",
   "metadata": {},
   "source": [
    "**Correlation Heatmap**"
   ]
  },
  {
   "cell_type": "code",
   "execution_count": 29,
   "metadata": {},
   "outputs": [
    {
     "data": {
      "text/html": [
       "<div>\n",
       "<style scoped>\n",
       "    .dataframe tbody tr th:only-of-type {\n",
       "        vertical-align: middle;\n",
       "    }\n",
       "\n",
       "    .dataframe tbody tr th {\n",
       "        vertical-align: top;\n",
       "    }\n",
       "\n",
       "    .dataframe thead th {\n",
       "        text-align: right;\n",
       "    }\n",
       "</style>\n",
       "<table border=\"1\" class=\"dataframe\">\n",
       "  <thead>\n",
       "    <tr style=\"text-align: right;\">\n",
       "      <th></th>\n",
       "      <th>NoDur</th>\n",
       "      <th>Durbl</th>\n",
       "      <th>Manuf</th>\n",
       "      <th>Enrgy</th>\n",
       "      <th>Chems</th>\n",
       "      <th>BusEq</th>\n",
       "      <th>Telcm</th>\n",
       "      <th>Utils</th>\n",
       "      <th>Shops</th>\n",
       "      <th>Hlth</th>\n",
       "      <th>Money</th>\n",
       "      <th>Other</th>\n",
       "    </tr>\n",
       "  </thead>\n",
       "  <tbody>\n",
       "    <tr>\n",
       "      <th>NoDur</th>\n",
       "      <td>1.000000</td>\n",
       "      <td>0.503426</td>\n",
       "      <td>0.718675</td>\n",
       "      <td>0.489393</td>\n",
       "      <td>0.792430</td>\n",
       "      <td>0.492181</td>\n",
       "      <td>0.626809</td>\n",
       "      <td>0.563380</td>\n",
       "      <td>0.732276</td>\n",
       "      <td>0.708126</td>\n",
       "      <td>0.717492</td>\n",
       "      <td>0.720168</td>\n",
       "    </tr>\n",
       "    <tr>\n",
       "      <th>Durbl</th>\n",
       "      <td>0.503426</td>\n",
       "      <td>1.000000</td>\n",
       "      <td>0.754679</td>\n",
       "      <td>0.448901</td>\n",
       "      <td>0.626584</td>\n",
       "      <td>0.625736</td>\n",
       "      <td>0.538846</td>\n",
       "      <td>0.309381</td>\n",
       "      <td>0.701516</td>\n",
       "      <td>0.438105</td>\n",
       "      <td>0.678247</td>\n",
       "      <td>0.754931</td>\n",
       "    </tr>\n",
       "    <tr>\n",
       "      <th>Manuf</th>\n",
       "      <td>0.718675</td>\n",
       "      <td>0.754679</td>\n",
       "      <td>1.000000</td>\n",
       "      <td>0.634483</td>\n",
       "      <td>0.844495</td>\n",
       "      <td>0.736314</td>\n",
       "      <td>0.687817</td>\n",
       "      <td>0.450015</td>\n",
       "      <td>0.797959</td>\n",
       "      <td>0.622527</td>\n",
       "      <td>0.814495</td>\n",
       "      <td>0.924291</td>\n",
       "    </tr>\n",
       "    <tr>\n",
       "      <th>Enrgy</th>\n",
       "      <td>0.489393</td>\n",
       "      <td>0.448901</td>\n",
       "      <td>0.634483</td>\n",
       "      <td>1.000000</td>\n",
       "      <td>0.550825</td>\n",
       "      <td>0.385683</td>\n",
       "      <td>0.473481</td>\n",
       "      <td>0.481419</td>\n",
       "      <td>0.429325</td>\n",
       "      <td>0.394478</td>\n",
       "      <td>0.559838</td>\n",
       "      <td>0.579819</td>\n",
       "    </tr>\n",
       "    <tr>\n",
       "      <th>Chems</th>\n",
       "      <td>0.792430</td>\n",
       "      <td>0.626584</td>\n",
       "      <td>0.844495</td>\n",
       "      <td>0.550825</td>\n",
       "      <td>1.000000</td>\n",
       "      <td>0.573600</td>\n",
       "      <td>0.593237</td>\n",
       "      <td>0.483263</td>\n",
       "      <td>0.731633</td>\n",
       "      <td>0.663732</td>\n",
       "      <td>0.737978</td>\n",
       "      <td>0.813168</td>\n",
       "    </tr>\n",
       "    <tr>\n",
       "      <th>BusEq</th>\n",
       "      <td>0.492181</td>\n",
       "      <td>0.625736</td>\n",
       "      <td>0.736314</td>\n",
       "      <td>0.385683</td>\n",
       "      <td>0.573600</td>\n",
       "      <td>1.000000</td>\n",
       "      <td>0.644107</td>\n",
       "      <td>0.239064</td>\n",
       "      <td>0.715793</td>\n",
       "      <td>0.543897</td>\n",
       "      <td>0.595299</td>\n",
       "      <td>0.765419</td>\n",
       "    </tr>\n",
       "    <tr>\n",
       "      <th>Telcm</th>\n",
       "      <td>0.626809</td>\n",
       "      <td>0.538846</td>\n",
       "      <td>0.687817</td>\n",
       "      <td>0.473481</td>\n",
       "      <td>0.593237</td>\n",
       "      <td>0.644107</td>\n",
       "      <td>1.000000</td>\n",
       "      <td>0.433767</td>\n",
       "      <td>0.658690</td>\n",
       "      <td>0.568705</td>\n",
       "      <td>0.671109</td>\n",
       "      <td>0.719743</td>\n",
       "    </tr>\n",
       "    <tr>\n",
       "      <th>Utils</th>\n",
       "      <td>0.563380</td>\n",
       "      <td>0.309381</td>\n",
       "      <td>0.450015</td>\n",
       "      <td>0.481419</td>\n",
       "      <td>0.483263</td>\n",
       "      <td>0.239064</td>\n",
       "      <td>0.433767</td>\n",
       "      <td>1.000000</td>\n",
       "      <td>0.369660</td>\n",
       "      <td>0.435995</td>\n",
       "      <td>0.446229</td>\n",
       "      <td>0.443071</td>\n",
       "    </tr>\n",
       "    <tr>\n",
       "      <th>Shops</th>\n",
       "      <td>0.732276</td>\n",
       "      <td>0.701516</td>\n",
       "      <td>0.797959</td>\n",
       "      <td>0.429325</td>\n",
       "      <td>0.731633</td>\n",
       "      <td>0.715793</td>\n",
       "      <td>0.658690</td>\n",
       "      <td>0.369660</td>\n",
       "      <td>1.000000</td>\n",
       "      <td>0.641604</td>\n",
       "      <td>0.748771</td>\n",
       "      <td>0.832756</td>\n",
       "    </tr>\n",
       "    <tr>\n",
       "      <th>Hlth</th>\n",
       "      <td>0.708126</td>\n",
       "      <td>0.438105</td>\n",
       "      <td>0.622527</td>\n",
       "      <td>0.394478</td>\n",
       "      <td>0.663732</td>\n",
       "      <td>0.543897</td>\n",
       "      <td>0.568705</td>\n",
       "      <td>0.435995</td>\n",
       "      <td>0.641604</td>\n",
       "      <td>1.000000</td>\n",
       "      <td>0.640737</td>\n",
       "      <td>0.662822</td>\n",
       "    </tr>\n",
       "    <tr>\n",
       "      <th>Money</th>\n",
       "      <td>0.717492</td>\n",
       "      <td>0.678247</td>\n",
       "      <td>0.814495</td>\n",
       "      <td>0.559838</td>\n",
       "      <td>0.737978</td>\n",
       "      <td>0.595299</td>\n",
       "      <td>0.671109</td>\n",
       "      <td>0.446229</td>\n",
       "      <td>0.748771</td>\n",
       "      <td>0.640737</td>\n",
       "      <td>1.000000</td>\n",
       "      <td>0.835698</td>\n",
       "    </tr>\n",
       "    <tr>\n",
       "      <th>Other</th>\n",
       "      <td>0.720168</td>\n",
       "      <td>0.754931</td>\n",
       "      <td>0.924291</td>\n",
       "      <td>0.579819</td>\n",
       "      <td>0.813168</td>\n",
       "      <td>0.765419</td>\n",
       "      <td>0.719743</td>\n",
       "      <td>0.443071</td>\n",
       "      <td>0.832756</td>\n",
       "      <td>0.662822</td>\n",
       "      <td>0.835698</td>\n",
       "      <td>1.000000</td>\n",
       "    </tr>\n",
       "  </tbody>\n",
       "</table>\n",
       "</div>"
      ],
      "text/plain": [
       "          NoDur     Durbl     Manuf     Enrgy     Chems     BusEq     Telcm  \\\n",
       "NoDur  1.000000  0.503426  0.718675  0.489393  0.792430  0.492181  0.626809   \n",
       "Durbl  0.503426  1.000000  0.754679  0.448901  0.626584  0.625736  0.538846   \n",
       "Manuf  0.718675  0.754679  1.000000  0.634483  0.844495  0.736314  0.687817   \n",
       "Enrgy  0.489393  0.448901  0.634483  1.000000  0.550825  0.385683  0.473481   \n",
       "Chems  0.792430  0.626584  0.844495  0.550825  1.000000  0.573600  0.593237   \n",
       "BusEq  0.492181  0.625736  0.736314  0.385683  0.573600  1.000000  0.644107   \n",
       "Telcm  0.626809  0.538846  0.687817  0.473481  0.593237  0.644107  1.000000   \n",
       "Utils  0.563380  0.309381  0.450015  0.481419  0.483263  0.239064  0.433767   \n",
       "Shops  0.732276  0.701516  0.797959  0.429325  0.731633  0.715793  0.658690   \n",
       "Hlth   0.708126  0.438105  0.622527  0.394478  0.663732  0.543897  0.568705   \n",
       "Money  0.717492  0.678247  0.814495  0.559838  0.737978  0.595299  0.671109   \n",
       "Other  0.720168  0.754931  0.924291  0.579819  0.813168  0.765419  0.719743   \n",
       "\n",
       "          Utils     Shops      Hlth     Money     Other  \n",
       "NoDur  0.563380  0.732276  0.708126  0.717492  0.720168  \n",
       "Durbl  0.309381  0.701516  0.438105  0.678247  0.754931  \n",
       "Manuf  0.450015  0.797959  0.622527  0.814495  0.924291  \n",
       "Enrgy  0.481419  0.429325  0.394478  0.559838  0.579819  \n",
       "Chems  0.483263  0.731633  0.663732  0.737978  0.813168  \n",
       "BusEq  0.239064  0.715793  0.543897  0.595299  0.765419  \n",
       "Telcm  0.433767  0.658690  0.568705  0.671109  0.719743  \n",
       "Utils  1.000000  0.369660  0.435995  0.446229  0.443071  \n",
       "Shops  0.369660  1.000000  0.641604  0.748771  0.832756  \n",
       "Hlth   0.435995  0.641604  1.000000  0.640737  0.662822  \n",
       "Money  0.446229  0.748771  0.640737  1.000000  0.835698  \n",
       "Other  0.443071  0.832756  0.662822  0.835698  1.000000  "
      ]
     },
     "execution_count": 29,
     "metadata": {},
     "output_type": "execute_result"
    },
    {
     "data": {
      "image/png": "[encoded data removed]",
      "text/plain": [
       "<Figure size 1152x648 with 2 Axes>"
      ]
     },
     "metadata": {
      "needs_background": "light"
     },
     "output_type": "display_data"
    }
   ],
   "source": [
    "##Draw the correlation heatmap\n",
    "correlation_method = 'pearson'\n",
    "plt.figure(figsize=(16, 9))\n",
    "heatmap = sb.heatmap(portfolio_return.corr(method = correlation_method), cmap=\"YlGnBu\",  annot=True)\n",
    "heatmap.set_title('Correlation Heatmap', fontdict={'fontsize':12}, pad=12)\n",
    "portfolio_return.corr(method = correlation_method)"
   ]
  },
  {
   "cell_type": "markdown",
   "metadata": {},
   "source": [
    "From the heatmap, we will roughly see 'Other', 'Money', 'Shops', 'Chems' and 'Manuf' are closely related. But the heatmap is not a good way to show the complex relationships between many individuals."
   ]
  },
  {
   "cell_type": "markdown",
   "metadata": {},
   "source": [
    "Then in the next step, I will apply hierarchical clustering. But I first used PCA to reduce feature dimensions and create PCA Loading features for each time series (if not, the value at each time point should be a feature). Then I draw the dendrograms to see how the individuals are grouped."
   ]
  },
  {
   "cell_type": "markdown",
   "metadata": {},
   "source": [
    "**PCA and Hierarchical Clustering**"
   ]
  },
  {
   "cell_type": "code",
   "execution_count": 30,
   "metadata": {},
   "outputs": [],
   "source": [
    "##import packages\n",
    "import seaborn as sb\n",
    "import matplotlib.pyplot as plt\n",
    "from sklearn.preprocessing import StandardScaler\n",
    "from sklearn.decomposition import PCA\n",
    "from scipy.cluster import hierarchy"
   ]
  },
  {
   "cell_type": "code",
   "execution_count": 31,
   "metadata": {},
   "outputs": [],
   "source": [
    "def run_pca_hierarchical_cluster(\n",
    "    raw_data, \n",
    "    n_components, \n",
    "    *, \n",
    "    # hierarchical clustering params\n",
    "    method=\"ward\",\n",
    "    metric=\"euclidean\",\n",
    "):\n",
    "    # normalize data for pca\n",
    "    scaler = StandardScaler()\n",
    "    data = scaler.fit_transform(raw_data)\n",
    "    pca = PCA(n_components).fit(data)\n",
    "    pca_loadings = pca.components_.T * np.sqrt(pca.explained_variance_)\n",
    "    \n",
    "    # use pca_loadings to run hierarchical cluster\n",
    "    linkage_data = hierarchy.linkage(pca_loadings, method=method, metric=metric)\n",
    "    hierarchy.dendrogram(linkage_data, labels=raw_data.columns)\n",
    "    plt.xticks(rotation=90)\n",
    "    plt.show()"
   ]
  },
  {
   "cell_type": "code",
   "execution_count": 32,
   "metadata": {},
   "outputs": [
    {
     "data": {
      "image/png": "[encoded data removed]",
      "text/plain": [
       "<Figure size 432x288 with 1 Axes>"
      ]
     },
     "metadata": {
      "needs_background": "light"
     },
     "output_type": "display_data"
    }
   ],
   "source": [
    "n_components = 5\n",
    "run_pca_hierarchical_cluster(portfolio_return, n_components)"
   ]
  },
  {
   "cell_type": "markdown",
   "metadata": {},
   "source": [
    "The dendrogram naturally classified the portfolios into three groups (in different colors), which the red group is similar to the group we get from correlation heatmap. I will use this classification result in the third question."
   ]
  },
  {
   "cell_type": "markdown",
   "metadata": {},
   "source": [
    "### Conclusions"
   ]
  },
  {
   "cell_type": "markdown",
   "metadata": {},
   "source": [
    "By hierarchical clustering, the 12 portfolios are classified into three groups, they are:\n",
    "* group 1: Enrgy, Utils\n",
    "* group 2: Hlth, NoDur and Chems\n",
    "* group 3: BusEq, Telcm, Durbl, Shops, Money, Manuf and Other"
   ]
  },
  {
   "cell_type": "markdown",
   "metadata": {},
   "source": [
    "## Answer 2.b"
   ]
  },
  {
   "cell_type": "markdown",
   "metadata": {},
   "source": [
    "I will then tests the time variation of the grouping result. Similar to previous questions, I will cut the entire history into 5 parts and draw the dendrogram into each part. "
   ]
  },
  {
   "cell_type": "code",
   "execution_count": 33,
   "metadata": {},
   "outputs": [
    {
     "name": "stdout",
     "output_type": "stream",
     "text": [
      "clustering result from 198701 to 199404\n"
     ]
    },
    {
     "data": {
      "image/png": "[encoded data removed]",
      "text/plain": [
       "<Figure size 432x288 with 1 Axes>"
      ]
     },
     "metadata": {
      "needs_background": "light"
     },
     "output_type": "display_data"
    },
    {
     "name": "stdout",
     "output_type": "stream",
     "text": [
      "clustering result from 199404 to 200108\n"
     ]
    },
    {
     "data": {
      "image/png": "[encoded data removed]",
      "text/plain": [
       "<Figure size 432x288 with 1 Axes>"
      ]
     },
     "metadata": {
      "needs_background": "light"
     },
     "output_type": "display_data"
    },
    {
     "name": "stdout",
     "output_type": "stream",
     "text": [
      "clustering result from 200108 to 200811\n"
     ]
    },
    {
     "data": {
      "image/png": "[encoded data removed]",
      "text/plain": [
       "<Figure size 432x288 with 1 Axes>"
      ]
     },
     "metadata": {
      "needs_background": "light"
     },
     "output_type": "display_data"
    },
    {
     "name": "stdout",
     "output_type": "stream",
     "text": [
      "clustering result from 200811 to 201603\n"
     ]
    },
    {
     "data": {
      "image/png": "[encoded data removed]",
      "text/plain": [
       "<Figure size 432x288 with 1 Axes>"
      ]
     },
     "metadata": {
      "needs_background": "light"
     },
     "output_type": "display_data"
    },
    {
     "name": "stdout",
     "output_type": "stream",
     "text": [
      "clustering result from 201603 to 202306\n"
     ]
    },
    {
     "data": {
      "image/png": "[encoded data removed]",
      "text/plain": [
       "<Figure size 432x288 with 1 Axes>"
      ]
     },
     "metadata": {
      "needs_background": "light"
     },
     "output_type": "display_data"
    }
   ],
   "source": [
    "##cut the entire history evenly into 5 periods\n",
    "times = portfolio_return.index\n",
    "time_cuts = 5\n",
    "time_total = times.shape[0]\n",
    "for i in range(time_cuts):\n",
    "    start = times[int(i * time_total / time_cuts)]\n",
    "    end = times[min(int((i+1) * time_total / time_cuts), time_total-1)]\n",
    "    print(f\"clustering result from {start} to {end}\")\n",
    "    run_pca_hierarchical_cluster(portfolio_return.loc[start: end], n_components)"
   ]
  },
  {
   "cell_type": "markdown",
   "metadata": {},
   "source": [
    "We can tell that the grouping results do change over time, but we cannot tell how big is the difference between different time periods by only visualization. I will use adjusted rand index to measure the similarity between the grouping results from 198701 to 199404 and those from 201603 to 202306."
   ]
  },
  {
   "cell_type": "markdown",
   "metadata": {},
   "source": [
    "**Adjusted Rand Index**"
   ]
  },
  {
   "cell_type": "code",
   "execution_count": 34,
   "metadata": {},
   "outputs": [
    {
     "name": "stdout",
     "output_type": "stream",
     "text": [
      "The Rand index is -0.08\n"
     ]
    }
   ],
   "source": [
    "from sklearn.metrics.cluster import adjusted_rand_score\n",
    "label_1987 = [0, 0, 0, 1, 0, 0, 1, 1, 0, 0, 0, 0]\n",
    "label_2016 = [1, 0, 3, 3, 1, 0, 3, 1, 0, 2, 3, 3]\n",
    "rand_index = adjusted_rand_score(label_1987, label_2016)\n",
    "print('The Rand index is', round(rand_index, 2))\n"
   ]
  },
  {
   "cell_type": "markdown",
   "metadata": {},
   "source": [
    "### Conclusions"
   ]
  },
  {
   "cell_type": "markdown",
   "metadata": {},
   "source": [
    "From the dendrograms in different periods, we can see there exists time variation of the clustering results, and the adjusted rand index value for the testing example is -0.08, which shows the similarity of the clustering results between two time periods is low."
   ]
  },
  {
   "cell_type": "markdown",
   "metadata": {},
   "source": [
    "## Answer 2.c"
   ]
  },
  {
   "cell_type": "markdown",
   "metadata": {},
   "source": [
    "The Adjusted Rand Index (ARI) is a measure of the similarity between two data clusterings. The higher the ARI value, the closer the two clusterings are to each other. It ranges from -1 to 1, where 1 indicates perfect agreement between the two clusterings, 0 indicates a random agreement and -1 indicates that the two clusterings are completely different."
   ]
  },
  {
   "cell_type": "markdown",
   "metadata": {},
   "source": [
    "The reasons I choose ARI are: 1) compared to dendrogram visualization, it clearly tells the difference/similarity between two clustering results. 2) compared to Rand Index (RI), it takes into account the fact that some agreement between two clusterings can occur by chance, and it adjusts the Rand Index to account for this possibility and provides more robust evaluations."
   ]
  },
  {
   "cell_type": "markdown",
   "metadata": {},
   "source": [
    "# Question 3"
   ]
  },
  {
   "cell_type": "markdown",
   "metadata": {},
   "source": [
    "*Question Description* <br>\n",
    "Construct minimum variance portfolio with constraints of not more than 50% allocation to each group that you found in no. 2.  Compare it with equal weighted 12 industry portfolio. Do monthly rebalancing for both."
   ]
  },
  {
   "cell_type": "markdown",
   "metadata": {},
   "source": [
    "**Optimization**"
   ]
  },
  {
   "cell_type": "markdown",
   "metadata": {},
   "source": [
    "I will use the clustering result in question 2 to construct the MVP, that is 'Enrgy' and 'Utils' is a group, 'Hlth' and 'NoDur' and 'Chems' is a group, the rest portfolios is a group."
   ]
  },
  {
   "cell_type": "markdown",
   "metadata": {},
   "source": [
    "The optimization problem we are solving is: <br>\n",
    "                 <center> $ min $ $  w^T\\sum w $ <br>\n",
    "                  $ s.t.$ $ w1+w5+w10 <= 0.5 $ <br>\n",
    "                  $   w4+w8 <= 0.5 $ <br>\n",
    "                  $   w2+w3+w6+w7+w9+w11+w12 <= 0.5 $ <br>\n",
    "                  $   0=<w_i<=1 $ $for $ $i = 1,2,3,...,12 $ <br>\n",
    "                  $   \\sum w_i = 1 $ </center>\n",
    "                  "
   ]
  },
  {
   "cell_type": "code",
   "execution_count": 35,
   "metadata": {},
   "outputs": [],
   "source": [
    "#import packages\n",
    "from scipy.optimize import minimize\n",
    "\n",
    "## This function is to calculate the portfolio variance with the portfolio weights and covariance matrix\n",
    "def portfolio_variance(weights,  cov_matrix):\n",
    "    return np.dot(weights.T, np.dot(cov_matrix, weights))\n",
    "\n",
    "## This function is to perform optimization on the minimized variance portfolio construction\n",
    "def minimize_variance_portfolio(expected_returns, cov_matrix):\n",
    "    num_assets = len(expected_returns)\n",
    "    # Constraints: sum of weights should be 1, non-negativity of weights, and the group weight<=0.5\n",
    "    constrains = ({'type': 'eq', 'fun': lambda x:  np.sum(x)-1},\n",
    "        {'type': 'ineq', 'fun': lambda x: x[0]+x[4]+x[9]-0.5},\n",
    "         {'type': 'ineq', 'fun': lambda x: x[3]+x[7]-0.5},\n",
    "        {'type': 'ineq', 'fun': lambda x: x[1]+x[2]+x[5]+x[6]+x[8]+x[10]+x[11]-0.5})\n",
    "    #boundary of each weight, can change to negative number if we want to short\n",
    "    bounds = [(0, 1) for x in range(len(expected_returns))] \n",
    "    # Initial equal weights (but can be changed to any other starting point)\n",
    "    initial_weights = np.ones(num_assets) / num_assets\n",
    "\n",
    "    # Minimize the portfolio variance using the scipy minimize function\n",
    "    result = minimize(portfolio_variance, initial_weights, args=(cov_matrix,), method='SLSQP', constraints=constrains, bounds = bounds)\n",
    "\n",
    "    return result.x\n"
   ]
  },
  {
   "cell_type": "code",
   "execution_count": 36,
   "metadata": {},
   "outputs": [],
   "source": [
    "##This function is to perform the monthly rebalancing and generate the portfolio values along time \n",
    "def rebalance(strategy, portfolio_return):\n",
    "    #First calculate the market values using returns\n",
    "    MV = portfolio_return.applymap(lambda x: x+1)\n",
    "    MV.iloc[0] = [1]*len(MV.columns)\n",
    "    MV = MV.cumprod(axis = 0)\n",
    "    \n",
    "    #Rebalance\n",
    "    ini_weights = np.array([1/len(MV.columns) for i in range(len(MV.columns))])\n",
    "    port_value_total  = [1] #set initial portfolio value\n",
    "    for i in range(1, len(MV.index)):\n",
    "        if i == 1:\n",
    "            weights = ini_weights\n",
    "        port_value = weights.dot(np.array(MV.iloc[i]))\n",
    "        port_value_total.append(port_value)\n",
    "        if strategy =='MVP': #minimized variance portfolio\n",
    "            #I will use a rolling window to calculate the rebalanced weights, using all the previous history information\n",
    "            weights = minimize_variance_portfolio(list(np.mean(portfolio_return.iloc[:i+1])), portfolio_return.iloc[:i+1].cov())\n",
    "        elif strategy == 'BH': #buy and hold\n",
    "            weights = ini_weights\n",
    "        elif strategy == 'EW': #equal weighted\n",
    "            weights = (port_value*ini_weights/MV.iloc[i])/sum(port_value*ini_weights/MV.iloc[i])\n",
    "    return port_value_total"
   ]
  },
  {
   "cell_type": "code",
   "execution_count": 37,
   "metadata": {},
   "outputs": [],
   "source": [
    "#equal-weighted market value rebalance\n",
    "EW_port_value = rebalance('EW', portfolio_return)\n",
    "#buy and hold (no rebalance)\n",
    "BH_port_value = rebalance('BH', portfolio_return)\n",
    "#Optimized MVP rebalance\n",
    "MVP_port_value = rebalance('MVP', portfolio_return)"
   ]
  },
  {
   "cell_type": "code",
   "execution_count": 38,
   "metadata": {},
   "outputs": [
    {
     "data": {
      "image/png": "[encoded data removed]",
      "text/plain": [
       "<Figure size 1152x648 with 1 Axes>"
      ]
     },
     "metadata": {
      "needs_background": "light"
     },
     "output_type": "display_data"
    }
   ],
   "source": [
    "##Plot the portfolio values along time\n",
    "from datetime import datetime\n",
    "x=[datetime.strptime(str(portfolio_return.index[i]), '%Y%m') for i in range(len(portfolio_return.index))]\n",
    "plt.figure(figsize=(16, 9))\n",
    "plt.plot(x, EW_port_value)\n",
    "plt.plot(x, BH_port_value)\n",
    "plt.plot(x, MVP_port_value)\n",
    "plt.xlabel('Date')\n",
    "plt.ylabel('Portfolio_value')\n",
    "plt.legend(['Equal weighted', 'Buy and hold', 'Miminum variance portfolio'])\n",
    "plt.show()"
   ]
  },
  {
   "cell_type": "markdown",
   "metadata": {},
   "source": [
    "### Conclusions"
   ]
  },
  {
   "cell_type": "markdown",
   "metadata": {},
   "source": [
    "* Generally speaking, the performace of the three strategies is MVP>BH>EW.\n",
    "* It is easy to understand, rebalancing using the MVP weightes helps reduce portfolio variances, and applying the 0.5 threshold constrain further helps increse the divisification of the portfolio (set less weight on the highly correlated portfolios) and reduce the portfolio risk, thus, we see the MVP strategy performs better than EW.\n",
    "* In most of the periods, MVP performs better than BH, but this is based on the assumption that there is no transaction costs. However, in the real world, we need to take into account the transaction costs, which might lead to a different story.\n",
    "* One possible reason that BH performs better than EW is that sometimes the development trend of the quick growth portfolios (e.g. Hlth) is curbed by the fixed weight."
   ]
  },
  {
   "cell_type": "markdown",
   "metadata": {},
   "source": [
    "# Potential Future Improvement"
   ]
  },
  {
   "cell_type": "markdown",
   "metadata": {},
   "source": [
    "* 1. When using the t-test to measure the difference of the Adjusted R2 between pair of groups, the sample size is 12, which is relatively insufficient. It is better to test the nomality of the sample distribution, if the sample size is less than 30, it should follow the normal distribution to use the t-test.\n",
    "* 2. When using GLS, the assumption for residuals is they follow AR(1) model, and the covariance is constructed based on this assumption. But we can further invesitigate whether this assumption is correct and if there is a better approach to estimate the covariance matrix for the residuals.\n",
    "* 3. For the PCA loadings generation, we manually chose 5 components, but we can further using the explained variation to choose the best number of loadings to have.\n",
    "* 4. There are a lot of time period divisions used in this solution, but I only evenly divided the whole entire hisitory into several pieces. For further investigation, we can use some representative financial turning point (e.g., crisis) to divide the history. Addionally, we can test if changing the number of time cuts will make a difference to the testing results.\n",
    "* 5. For the MVP construction, I only considered long positions by setting non-negative boundaries to the portfolio weights, but we can further try to include short positions as well. In addition, I used the whole previous history to calculate the rebalanced weights, we can further set up a fixed length rolling period to calculate the rebalanced weights.\n",
    "* 6. To better compare the rebalanced trading strategies with buy and hold strategies, we need to consider the transaction cost as well, but for now, we assume there is no transaction cost."
   ]
  }
 ],
 "metadata": {
  "kernelspec": {
   "display_name": "Python 3",
   "language": "python",
   "name": "python3"
  },
  "language_info": {
   "codemirror_mode": {
    "name": "ipython",
    "version": 3
   },
   "file_extension": ".py",
   "mimetype": "text/x-python",
   "name": "python",
   "nbconvert_exporter": "python",
   "pygments_lexer": "ipython3",
   "version": "3.7.4"
  }
 },
 "nbformat": 4,
 "nbformat_minor": 2
}
